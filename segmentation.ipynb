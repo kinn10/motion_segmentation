{
 "cells": [
  {
   "attachments": {},
   "cell_type": "markdown",
   "metadata": {},
   "source": [
    "1.Install and import dependencies"
   ]
  },
  {
   "cell_type": "code",
   "execution_count": 2,
   "metadata": {},
   "outputs": [
    {
     "name": "stdout",
     "output_type": "stream",
     "text": [
      "Collecting tensorflow==2.5.1"
     ]
    },
    {
     "name": "stderr",
     "output_type": "stream",
     "text": [
      "ERROR: pip's dependency resolver does not currently take into account all the packages that are installed. This behaviour is the source of the following dependency conflicts.\n",
      "spyder 5.1.5 requires pyqtwebengine<5.13, which is not installed.\n",
      "daal4py 2021.5.0 requires daal==2021.4.0, which is not installed.\n",
      "conda-repo-cli 1.0.4 requires pathlib, which is not installed.\n",
      "spyder 5.1.5 requires pyqt5<5.13, but you have pyqt5 5.15.9 which is incompatible.\n",
      "google-cloud-storage 1.31.0 requires google-auth<2.0dev,>=1.11.0, but you have google-auth 2.6.6 which is incompatible.\n",
      "google-cloud-core 1.7.1 requires google-auth<2.0dev,>=1.24.0, but you have google-auth 2.6.6 which is incompatible.\n",
      "google-api-core 1.25.1 requires google-auth<2.0dev,>=1.21.1, but you have google-auth 2.6.6 which is incompatible.\n",
      "bokeh 2.4.2 requires typing-extensions>=3.10.0, but you have typing-extensions 3.7.4.3 which is incompatible.\n"
     ]
    },
    {
     "name": "stdout",
     "output_type": "stream",
     "text": [
      "\n",
      "  Downloading tensorflow-2.5.1-cp39-cp39-win_amd64.whl (422.7 MB)\n",
      "Collecting tensorflow-gpu==2.5.1\n",
      "  Downloading tensorflow_gpu-2.5.1-cp39-cp39-win_amd64.whl (422.7 MB)\n",
      "Collecting pixellib\n",
      "  Downloading pixellib-0.7.1-py3-none-any.whl (430 kB)\n",
      "Requirement already satisfied: opencv-python in c:\\users\\msii\\anaconda3\\lib\\site-packages (4.7.0.68)\n",
      "Collecting keras-nightly~=2.5.0.dev\n",
      "  Downloading keras_nightly-2.5.0.dev2021032900-py2.py3-none-any.whl (1.2 MB)\n",
      "Requirement already satisfied: opt-einsum~=3.3.0 in c:\\users\\msii\\appdata\\roaming\\python\\python39\\site-packages (from tensorflow==2.5.1) (3.3.0)\n",
      "Requirement already satisfied: wheel~=0.35 in c:\\users\\msii\\appdata\\roaming\\python\\python39\\site-packages (from tensorflow==2.5.1) (0.37.1)\n",
      "Requirement already satisfied: protobuf>=3.9.2 in c:\\users\\msii\\appdata\\roaming\\python\\python39\\site-packages (from tensorflow==2.5.1) (3.19.4)\n",
      "Requirement already satisfied: astunparse~=1.6.3 in c:\\users\\msii\\appdata\\roaming\\python\\python39\\site-packages (from tensorflow==2.5.1) (1.6.3)\n",
      "Collecting grpcio~=1.34.0\n",
      "  Downloading grpcio-1.34.1-cp39-cp39-win_amd64.whl (2.9 MB)\n",
      "Requirement already satisfied: flatbuffers~=1.12.0 in c:\\users\\msii\\appdata\\roaming\\python\\python39\\site-packages (from tensorflow==2.5.1) (1.12)\n",
      "Collecting tensorflow-estimator<2.6.0,>=2.5.0\n",
      "  Downloading tensorflow_estimator-2.5.0-py2.py3-none-any.whl (462 kB)\n",
      "Requirement already satisfied: keras-preprocessing~=1.1.2 in c:\\users\\msii\\appdata\\roaming\\python\\python39\\site-packages (from tensorflow==2.5.1) (1.1.2)\n",
      "Collecting six~=1.15.0\n",
      "  Downloading six-1.15.0-py2.py3-none-any.whl (10 kB)\n",
      "Collecting numpy~=1.19.2\n",
      "  Downloading numpy-1.19.5-cp39-cp39-win_amd64.whl (13.3 MB)\n",
      "Collecting absl-py~=0.10\n",
      "  Downloading absl_py-0.15.0-py3-none-any.whl (132 kB)\n",
      "Collecting wrapt~=1.12.1\n",
      "  Downloading wrapt-1.12.1.tar.gz (27 kB)\n",
      "Requirement already satisfied: google-pasta~=0.2 in c:\\users\\msii\\appdata\\roaming\\python\\python39\\site-packages (from tensorflow==2.5.1) (0.2.0)\n",
      "Requirement already satisfied: tensorboard~=2.5 in c:\\users\\msii\\appdata\\roaming\\python\\python39\\site-packages (from tensorflow==2.5.1) (2.9.0)\n",
      "Collecting h5py~=3.1.0\n",
      "  Downloading h5py-3.1.0-cp39-cp39-win_amd64.whl (2.7 MB)\n",
      "Requirement already satisfied: termcolor~=1.1.0 in c:\\users\\msii\\appdata\\roaming\\python\\python39\\site-packages (from tensorflow==2.5.1) (1.1.0)\n",
      "Requirement already satisfied: gast==0.4.0 in c:\\users\\msii\\appdata\\roaming\\python\\python39\\site-packages (from tensorflow==2.5.1) (0.4.0)\n",
      "Collecting typing-extensions~=3.7.4\n",
      "  Downloading typing_extensions-3.7.4.3-py3-none-any.whl (22 kB)\n",
      "Requirement already satisfied: tqdm in c:\\users\\msii\\anaconda3\\lib\\site-packages (from pixellib) (4.64.0)\n",
      "Collecting iopath\n",
      "  Downloading iopath-0.1.10.tar.gz (42 kB)\n",
      "Requirement already satisfied: Cython in c:\\users\\msii\\anaconda3\\lib\\site-packages (from pixellib) (0.29.28)\n",
      "Collecting omegaconf\n",
      "  Downloading omegaconf-2.3.0-py3-none-any.whl (79 kB)\n",
      "Collecting pydot\n",
      "  Downloading pydot-1.4.2-py2.py3-none-any.whl (21 kB)\n",
      "Collecting imgaug\n",
      "  Downloading imgaug-0.4.0-py2.py3-none-any.whl (948 kB)\n",
      "Collecting pyQt5\n",
      "  Downloading PyQt5-5.15.9-cp37-abi3-win_amd64.whl (6.8 MB)\n",
      "Requirement already satisfied: future in c:\\users\\msii\\appdata\\roaming\\python\\python39\\site-packages (from pixellib) (0.18.2)\n",
      "Collecting dataclasses\n",
      "  Downloading dataclasses-0.6-py3-none-any.whl (14 kB)\n",
      "Collecting yacs\n",
      "  Downloading yacs-0.1.8-py3-none-any.whl (14 kB)\n",
      "Requirement already satisfied: pillow in c:\\users\\msii\\anaconda3\\lib\\site-packages (from pixellib) (9.0.1)\n",
      "Requirement already satisfied: scikit-image in c:\\users\\msii\\anaconda3\\lib\\site-packages (from pixellib) (0.19.2)\n",
      "Requirement already satisfied: black in c:\\users\\msii\\anaconda3\\lib\\site-packages (from pixellib) (19.10b0)\n",
      "Collecting hydra-core\n",
      "  Downloading hydra_core-1.3.2-py3-none-any.whl (154 kB)\n",
      "Requirement already satisfied: matplotlib in c:\\users\\msii\\anaconda3\\lib\\site-packages (from pixellib) (3.5.1)\n",
      "Requirement already satisfied: tabulate in c:\\users\\msii\\anaconda3\\lib\\site-packages (from pixellib) (0.8.9)\n",
      "Collecting labelme2coco\n",
      "  Downloading labelme2coco-0.2.3-py3-none-any.whl (18 kB)\n",
      "Collecting imantics\n",
      "  Downloading imantics-0.1.12.tar.gz (13 kB)\n",
      "Collecting fvcore\n",
      "  Downloading fvcore-0.1.5.post20221221.tar.gz (50 kB)\n",
      "Requirement already satisfied: cloudpickle in c:\\users\\msii\\anaconda3\\lib\\site-packages (from pixellib) (2.0.0)\n",
      "Requirement already satisfied: tensorboard-plugin-wit>=1.6.0 in c:\\users\\msii\\appdata\\roaming\\python\\python39\\site-packages (from tensorboard~=2.5->tensorflow==2.5.1) (1.8.1)\n",
      "Requirement already satisfied: markdown>=2.6.8 in c:\\users\\msii\\appdata\\roaming\\python\\python39\\site-packages (from tensorboard~=2.5->tensorflow==2.5.1) (3.3.7)\n",
      "Requirement already satisfied: werkzeug>=1.0.1 in c:\\users\\msii\\appdata\\roaming\\python\\python39\\site-packages (from tensorboard~=2.5->tensorflow==2.5.1) (2.1.2)\n",
      "Requirement already satisfied: google-auth-oauthlib<0.5,>=0.4.1 in c:\\users\\msii\\appdata\\roaming\\python\\python39\\site-packages (from tensorboard~=2.5->tensorflow==2.5.1) (0.4.6)\n",
      "Requirement already satisfied: requests<3,>=2.21.0 in c:\\users\\msii\\anaconda3\\lib\\site-packages (from tensorboard~=2.5->tensorflow==2.5.1) (2.27.1)\n",
      "Requirement already satisfied: setuptools>=41.0.0 in c:\\users\\msii\\anaconda3\\lib\\site-packages (from tensorboard~=2.5->tensorflow==2.5.1) (62.6.0)\n",
      "Requirement already satisfied: google-auth<3,>=1.6.3 in c:\\users\\msii\\appdata\\roaming\\python\\python39\\site-packages (from tensorboard~=2.5->tensorflow==2.5.1) (2.6.6)\n",
      "Requirement already satisfied: tensorboard-data-server<0.7.0,>=0.6.0 in c:\\users\\msii\\appdata\\roaming\\python\\python39\\site-packages (from tensorboard~=2.5->tensorflow==2.5.1) (0.6.1)\n",
      "Requirement already satisfied: cachetools<6.0,>=2.0.0 in c:\\users\\msii\\appdata\\roaming\\python\\python39\\site-packages (from google-auth<3,>=1.6.3->tensorboard~=2.5->tensorflow==2.5.1) (5.1.0)\n",
      "Requirement already satisfied: pyasn1-modules>=0.2.1 in c:\\users\\msii\\appdata\\roaming\\python\\python39\\site-packages (from google-auth<3,>=1.6.3->tensorboard~=2.5->tensorflow==2.5.1) (0.2.8)\n",
      "Requirement already satisfied: rsa<5,>=3.1.4 in c:\\users\\msii\\appdata\\roaming\\python\\python39\\site-packages (from google-auth<3,>=1.6.3->tensorboard~=2.5->tensorflow==2.5.1) (4.8)\n",
      "Requirement already satisfied: requests-oauthlib>=0.7.0 in c:\\users\\msii\\appdata\\roaming\\python\\python39\\site-packages (from google-auth-oauthlib<0.5,>=0.4.1->tensorboard~=2.5->tensorflow==2.5.1) (1.3.1)\n",
      "Requirement already satisfied: importlib-metadata>=4.4 in c:\\users\\msii\\appdata\\roaming\\python\\python39\\site-packages (from markdown>=2.6.8->tensorboard~=2.5->tensorflow==2.5.1) (4.11.4)\n",
      "Requirement already satisfied: zipp>=0.5 in c:\\users\\msii\\appdata\\roaming\\python\\python39\\site-packages (from importlib-metadata>=4.4->markdown>=2.6.8->tensorboard~=2.5->tensorflow==2.5.1) (3.8.0)\n",
      "Requirement already satisfied: pyasn1<0.5.0,>=0.4.6 in c:\\users\\msii\\appdata\\roaming\\python\\python39\\site-packages (from pyasn1-modules>=0.2.1->google-auth<3,>=1.6.3->tensorboard~=2.5->tensorflow==2.5.1) (0.4.8)\n",
      "Requirement already satisfied: charset-normalizer~=2.0.0 in c:\\users\\msii\\anaconda3\\lib\\site-packages (from requests<3,>=2.21.0->tensorboard~=2.5->tensorflow==2.5.1) (2.0.4)\n",
      "Requirement already satisfied: idna<4,>=2.5 in c:\\users\\msii\\anaconda3\\lib\\site-packages (from requests<3,>=2.21.0->tensorboard~=2.5->tensorflow==2.5.1) (3.3)\n",
      "Requirement already satisfied: certifi>=2017.4.17 in c:\\users\\msii\\anaconda3\\lib\\site-packages (from requests<3,>=2.21.0->tensorboard~=2.5->tensorflow==2.5.1) (2021.10.8)\n",
      "Requirement already satisfied: urllib3<1.27,>=1.21.1 in c:\\users\\msii\\anaconda3\\lib\\site-packages (from requests<3,>=2.21.0->tensorboard~=2.5->tensorflow==2.5.1) (1.26.9)\n",
      "Requirement already satisfied: oauthlib>=3.0.0 in c:\\users\\msii\\appdata\\roaming\\python\\python39\\site-packages (from requests-oauthlib>=0.7.0->google-auth-oauthlib<0.5,>=0.4.1->tensorboard~=2.5->tensorflow==2.5.1) (3.2.0)\n",
      "Requirement already satisfied: attrs>=18.1.0 in c:\\users\\msii\\appdata\\roaming\\python\\python39\\site-packages (from black->pixellib) (21.4.0)\n",
      "Requirement already satisfied: appdirs in c:\\users\\msii\\anaconda3\\lib\\site-packages (from black->pixellib) (1.4.4)\n",
      "Requirement already satisfied: typed-ast>=1.4.0 in c:\\users\\msii\\anaconda3\\lib\\site-packages (from black->pixellib) (1.4.3)\n",
      "Requirement already satisfied: regex in c:\\users\\msii\\anaconda3\\lib\\site-packages (from black->pixellib) (2022.3.15)\n",
      "Requirement already satisfied: click>=6.5 in c:\\users\\msii\\anaconda3\\lib\\site-packages (from black->pixellib) (8.0.4)\n",
      "Requirement already satisfied: pathspec<1,>=0.6 in c:\\users\\msii\\anaconda3\\lib\\site-packages (from black->pixellib) (0.7.0)\n",
      "Requirement already satisfied: toml>=0.9.4 in c:\\users\\msii\\anaconda3\\lib\\site-packages (from black->pixellib) (0.10.2)\n",
      "Requirement already satisfied: colorama in c:\\users\\msii\\anaconda3\\lib\\site-packages (from click>=6.5->black->pixellib) (0.4.4)\n",
      "Requirement already satisfied: pyyaml>=5.1 in c:\\users\\msii\\appdata\\roaming\\python\\python39\\site-packages (from fvcore->pixellib) (6.0)\n",
      "Collecting portalocker\n",
      "  Downloading portalocker-2.7.0-py2.py3-none-any.whl (15 kB)\n",
      "Collecting antlr4-python3-runtime==4.9.*\n",
      "  Downloading antlr4-python3-runtime-4.9.3.tar.gz (117 kB)\n",
      "Requirement already satisfied: packaging in c:\\users\\msii\\anaconda3\\lib\\site-packages (from hydra-core->pixellib) (21.3)\n",
      "Requirement already satisfied: lxml in c:\\users\\msii\\anaconda3\\lib\\site-packages (from imantics->pixellib) (4.8.0)\n",
      "Collecting xmljson\n",
      "  Downloading xmljson-0.2.1-py2.py3-none-any.whl (10 kB)\n",
      "Requirement already satisfied: imageio in c:\\users\\msii\\anaconda3\\lib\\site-packages (from imgaug->pixellib) (2.9.0)\n",
      "Requirement already satisfied: scipy in c:\\users\\msii\\appdata\\roaming\\python\\python39\\site-packages (from imgaug->pixellib) (1.8.1)\n",
      "Requirement already satisfied: Shapely in c:\\users\\msii\\anaconda3\\lib\\site-packages (from imgaug->pixellib) (1.8.2)\n",
      "Requirement already satisfied: networkx>=2.2 in c:\\users\\msii\\anaconda3\\lib\\site-packages (from scikit-image->pixellib) (2.7.1)\n",
      "Requirement already satisfied: tifffile>=2019.7.26 in c:\\users\\msii\\anaconda3\\lib\\site-packages (from scikit-image->pixellib) (2021.7.2)\n",
      "Requirement already satisfied: PyWavelets>=1.1.1 in c:\\users\\msii\\anaconda3\\lib\\site-packages (from scikit-image->pixellib) (1.3.0)\n",
      "Requirement already satisfied: pyparsing!=3.0.5,>=2.0.2 in c:\\users\\msii\\anaconda3\\lib\\site-packages (from packaging->hydra-core->pixellib) (3.0.4)\n",
      "Requirement already satisfied: jsonschema>=2.6.0 in c:\\users\\msii\\appdata\\roaming\\python\\python39\\site-packages (from labelme2coco->pixellib) (4.5.1)\n",
      "Collecting sahi>=0.8.19\n",
      "  Downloading sahi-0.11.11-py3-none-any.whl (94 kB)\n",
      "Requirement already satisfied: pyrsistent!=0.17.0,!=0.17.1,!=0.17.2,>=0.14.0 in c:\\users\\msii\\appdata\\roaming\\python\\python39\\site-packages (from jsonschema>=2.6.0->labelme2coco->pixellib) (0.18.1)\n",
      "Collecting terminaltables\n",
      "  Downloading terminaltables-3.1.10-py2.py3-none-any.whl (15 kB)\n",
      "Collecting pybboxes==0.1.6\n",
      "  Downloading pybboxes-0.1.6-py3-none-any.whl (24 kB)\n",
      "Collecting fire\n",
      "  Downloading fire-0.5.0.tar.gz (88 kB)\n",
      "Requirement already satisfied: python-dateutil>=2.7 in c:\\users\\msii\\anaconda3\\lib\\site-packages (from matplotlib->pixellib) (2.8.2)\n",
      "Requirement already satisfied: fonttools>=4.22.0 in c:\\users\\msii\\anaconda3\\lib\\site-packages (from matplotlib->pixellib) (4.25.0)\n",
      "Requirement already satisfied: kiwisolver>=1.0.1 in c:\\users\\msii\\anaconda3\\lib\\site-packages (from matplotlib->pixellib) (1.3.2)\n",
      "Requirement already satisfied: cycler>=0.10 in c:\\users\\msii\\anaconda3\\lib\\site-packages (from matplotlib->pixellib) (0.11.0)\n",
      "Requirement already satisfied: pywin32>=226 in c:\\users\\msii\\anaconda3\\lib\\site-packages (from portalocker->iopath->pixellib) (302)\n",
      "Collecting PyQt5-Qt5>=5.15.2\n",
      "  Downloading PyQt5_Qt5-5.15.2-py3-none-win_amd64.whl (50.1 MB)\n",
      "Collecting PyQt5-sip<13,>=12.11\n",
      "  Downloading PyQt5_sip-12.11.1-cp39-cp39-win_amd64.whl (78 kB)\n",
      "Building wheels for collected packages: wrapt, fvcore, iopath, antlr4-python3-runtime, imantics, fire\n",
      "  Building wheel for wrapt (setup.py): started\n",
      "  Building wheel for wrapt (setup.py): finished with status 'done'\n",
      "  Created wheel for wrapt: filename=wrapt-1.12.1-py3-none-any.whl size=19553 sha256=01d4b5219de6bdad5999adc7f3a7809f6fa963631bbbf936291901989767fd89\n",
      "  Stored in directory: c:\\users\\msii\\appdata\\local\\pip\\cache\\wheels\\98\\23\\68\\efe259aaca055e93b08e74fbe512819c69a2155c11ba3c0f10\n",
      "  Building wheel for fvcore (setup.py): started\n",
      "  Building wheel for fvcore (setup.py): finished with status 'done'\n",
      "  Created wheel for fvcore: filename=fvcore-0.1.5.post20221221-py3-none-any.whl size=61406 sha256=ccf52ec477ffa50c3dc7bbdb434088ae8784147383f555089e5dfebd9b201e16\n",
      "  Stored in directory: c:\\users\\msii\\appdata\\local\\pip\\cache\\wheels\\83\\42\\02\\66178d16e5c44dc26d309931834956baeda371956e86fbd876\n",
      "  Building wheel for iopath (setup.py): started\n",
      "  Building wheel for iopath (setup.py): finished with status 'done'\n",
      "  Created wheel for iopath: filename=iopath-0.1.10-py3-none-any.whl size=31532 sha256=9ae5c5a61275a79f421a10479550f05d38a8244e257eb8dedd379be4d33403f0\n",
      "  Stored in directory: c:\\users\\msii\\appdata\\local\\pip\\cache\\wheels\\c1\\13\\6d\\441d8f2af76ee6d2a3e67eebb1d0c556fefcee0a8b32266a8e\n",
      "  Building wheel for antlr4-python3-runtime (setup.py): started\n",
      "  Building wheel for antlr4-python3-runtime (setup.py): finished with status 'done'\n",
      "  Created wheel for antlr4-python3-runtime: filename=antlr4_python3_runtime-4.9.3-py3-none-any.whl size=144566 sha256=4fcba36dc6040cae7a0ba0ba10e96f1408432149d01a1fa8156e85220e1476c6\n",
      "  Stored in directory: c:\\users\\msii\\appdata\\local\\pip\\cache\\wheels\\23\\cf\\80\\f3efa822e6ab23277902ee9165fe772eeb1dfb8014f359020a\n",
      "  Building wheel for imantics (setup.py): started\n",
      "  Building wheel for imantics (setup.py): finished with status 'done'\n",
      "  Created wheel for imantics: filename=imantics-0.1.12-py3-none-any.whl size=16017 sha256=19033c9dbf7fbef9eec0e252d39d47433b97f3d54b776c42d9228a8f30736a05\n",
      "  Stored in directory: c:\\users\\msii\\appdata\\local\\pip\\cache\\wheels\\45\\65\\ec\\8f8f231fa40bc5d47798df399f65aea84d2e3a0ea296f81506\n",
      "  Building wheel for fire (setup.py): started\n",
      "  Building wheel for fire (setup.py): finished with status 'done'\n",
      "  Created wheel for fire: filename=fire-0.5.0-py2.py3-none-any.whl size=116933 sha256=1fdc89600d89b2f4c2c03f331f6192b10972bad96722ab93395046b45e4dbaff\n",
      "  Stored in directory: c:\\users\\msii\\appdata\\local\\pip\\cache\\wheels\\f7\\f1\\89\\b9ea2bf8f80ec027a88fef1d354b3816b4d3d29530988972f6\n",
      "Successfully built wrapt fvcore iopath antlr4-python3-runtime imantics fire\n",
      "Installing collected packages: six, numpy, typing-extensions, terminaltables, pybboxes, portalocker, fire, antlr4-python3-runtime, yacs, xmljson, sahi, PyQt5-sip, PyQt5-Qt5, omegaconf, iopath, grpcio, absl-py, wrapt, tensorflow-estimator, pyQt5, pydot, labelme2coco, keras-nightly, imgaug, imantics, hydra-core, h5py, fvcore, dataclasses, tensorflow-gpu, tensorflow, pixellib\n",
      "  Attempting uninstall: six\n",
      "    Found existing installation: six 1.16.0\n",
      "    Uninstalling six-1.16.0:\n",
      "      Successfully uninstalled six-1.16.0\n",
      "  Attempting uninstall: numpy\n",
      "    Found existing installation: numpy 1.22.0\n",
      "    Uninstalling numpy-1.22.0:\n",
      "      Successfully uninstalled numpy-1.22.0\n",
      "  Attempting uninstall: typing-extensions\n",
      "    Found existing installation: typing-extensions 4.2.0\n",
      "    Uninstalling typing-extensions-4.2.0:\n",
      "      Successfully uninstalled typing-extensions-4.2.0\n",
      "  Attempting uninstall: grpcio\n",
      "    Found existing installation: grpcio 1.46.3\n",
      "    Uninstalling grpcio-1.46.3:\n",
      "      Successfully uninstalled grpcio-1.46.3\n",
      "  Attempting uninstall: absl-py\n",
      "    Found existing installation: absl-py 1.0.0\n",
      "    Uninstalling absl-py-1.0.0:\n",
      "      Successfully uninstalled absl-py-1.0.0\n",
      "  Attempting uninstall: wrapt\n",
      "    Found existing installation: wrapt 1.14.1\n",
      "    Uninstalling wrapt-1.14.1:\n",
      "      Successfully uninstalled wrapt-1.14.1\n",
      "  Attempting uninstall: tensorflow-estimator\n",
      "    Found existing installation: tensorflow-estimator 2.9.0\n",
      "    Uninstalling tensorflow-estimator-2.9.0:\n",
      "      Successfully uninstalled tensorflow-estimator-2.9.0\n",
      "  Attempting uninstall: h5py\n",
      "    Found existing installation: h5py 3.7.0\n",
      "    Uninstalling h5py-3.7.0:\n",
      "      Successfully uninstalled h5py-3.7.0\n",
      "  Attempting uninstall: tensorflow\n",
      "    Found existing installation: tensorflow 2.9.1\n",
      "    Uninstalling tensorflow-2.9.1:"
     ]
    },
    {
     "name": "stdout",
     "output_type": "stream",
     "text": [
      "\n",
      "      Successfully uninstalled tensorflow-2.9.1\n",
      "Successfully installed PyQt5-Qt5-5.15.2 PyQt5-sip-12.11.1 absl-py-0.15.0 antlr4-python3-runtime-4.9.3 dataclasses-0.6 fire-0.5.0 fvcore-0.1.5.post20221221 grpcio-1.42.0 h5py-3.6.0 hydra-core-1.3.2 imantics-0.1.12 imgaug-0.4.0 iopath-0.1.10 keras-nightly-2.5.0.dev2021032900 labelme2coco-0.2.3 numpy-1.21.5 omegaconf-2.3.0 pixellib-0.7.1 portalocker-2.7.0 pyQt5-5.15.9 pybboxes-0.1.6 pydot-1.4.2 sahi-0.11.11 six-1.15.0 tensorflow-2.5.1 tensorflow-estimator-2.5.0 tensorflow-gpu-2.5.1 terminaltables-3.1.10 typing-extensions-4.1.1 wrapt-1.12.1 xmljson-0.2.1 yacs-0.1.8\n"
     ]
    }
   ],
   "source": [
    "! pip install tensorflow==2.5.1 tensorflow-gpu==2.5.1 pixellib opencv-python"
   ]
  },
  {
   "cell_type": "code",
   "execution_count": 3,
   "metadata": {},
   "outputs": [],
   "source": [
    "import pixellib\n",
    "from pixellib.instance import instance_segmentation\n",
    "import cv2"
   ]
  },
  {
   "attachments": {},
   "cell_type": "markdown",
   "metadata": {},
   "source": [
    "2. Setup Model"
   ]
  },
  {
   "cell_type": "code",
   "execution_count": 6,
   "metadata": {},
   "outputs": [],
   "source": [
    "segmentation_model = instance_segmentation()\n",
    "segmentation_model.load_model('mask_rcnn_coco.h5')"
   ]
  },
  {
   "attachments": {},
   "cell_type": "markdown",
   "metadata": {},
   "source": [
    "3. Real Time Capture"
   ]
  },
  {
   "cell_type": "code",
   "execution_count": 17,
   "metadata": {},
   "outputs": [
    {
     "name": "stderr",
     "output_type": "stream",
     "text": [
      "c:\\Users\\MSII\\anaconda3\\lib\\site-packages\\tensorflow\\python\\keras\\engine\\training.py:2424: UserWarning: `Model.state_updates` will be removed in a future version. This property should not be used in TensorFlow 2.0, as `updates` are applied automatically.\n",
      "  warnings.warn('`Model.state_updates` will be removed in a future version. '\n"
     ]
    }
   ],
   "source": [
    "cap=cv2.VideoCapture(0)\n",
    "while cap.isOpened():\n",
    "    ret,frame = cap.read()\n",
    "\n",
    "    res = segmentation_model.segmentFrame(frame,show_bboxes=True)\n",
    "    image = res[1]\n",
    "    cv2.imshow('',frame)\n",
    "\n",
    "    if cv2.waitKey() & 0xFF == ord('q'):\n",
    "        break\n",
    "cap.release()\n",
    "cv2.destroyAllWindows()"
   ]
  },
  {
   "cell_type": "code",
   "execution_count": null,
   "metadata": {},
   "outputs": [],
   "source": []
  }
 ],
 "metadata": {
  "kernelspec": {
   "display_name": "base",
   "language": "python",
   "name": "python3"
  },
  "language_info": {
   "codemirror_mode": {
    "name": "ipython",
    "version": 3
   },
   "file_extension": ".py",
   "mimetype": "text/x-python",
   "name": "python",
   "nbconvert_exporter": "python",
   "pygments_lexer": "ipython3",
   "version": "3.9.12"
  },
  "orig_nbformat": 4,
  "vscode": {
   "interpreter": {
    "hash": "8e430fb7036d5643ef2fccaecc9997933f1fa188de33657140f1a262a190e200"
   }
  }
 },
 "nbformat": 4,
 "nbformat_minor": 2
}
